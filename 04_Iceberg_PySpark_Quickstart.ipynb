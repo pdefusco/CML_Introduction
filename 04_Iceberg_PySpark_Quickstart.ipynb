{
 "cells": [
  {
   "cell_type": "markdown",
   "id": "private-diversity",
   "metadata": {},
   "source": [
    "# Using Apache Iceberg with Spark 3 in CML"
   ]
  },
  {
   "cell_type": "markdown",
   "id": "positive-silly",
   "metadata": {},
   "source": [
    "The official documentation for Apache Iceberg with Spark is located at [this link](https://iceberg.apache.org/#getting-started/#using-iceberg-in-spark-3)"
   ]
  },
  {
   "cell_type": "markdown",
   "id": "tribal-burns",
   "metadata": {},
   "source": [
    "For a full list of Apache Iceberg terms, please visit [this link](https://iceberg.apache.org/#terms/)"
   ]
  },
  {
   "cell_type": "code",
   "execution_count": 6,
   "id": "3071c73f-9846-435b-847a-f6799335b1c6",
   "metadata": {},
   "outputs": [
    {
     "name": "stderr",
     "output_type": "stream",
     "text": [
      "Hive Session ID = b7dbfa88-a109-42da-949b-2011342a9f60\n"
     ]
    },
    {
     "data": {
      "text/plain": [
       "DataFrame[]"
      ]
     },
     "execution_count": 6,
     "metadata": {},
     "output_type": "execute_result"
    }
   ],
   "source": [
    "spark.sql(\"DROP TABLE IF EXISTS spark_catalog.testdb.newtesttable\")\n",
    "spark.sql(\"DROP TABLE IF EXISTS spark_catalog.testdb.secondtesttable\")"
   ]
  },
  {
   "cell_type": "code",
   "execution_count": 22,
   "id": "cf2b3c40-49d1-4f0f-879d-a28cd3d27aef",
   "metadata": {},
   "outputs": [],
   "source": [
    "#spark.stop()"
   ]
  },
  {
   "cell_type": "markdown",
   "id": "ultimate-committee",
   "metadata": {},
   "source": [
    "### Start a PySpark Session as shown below. You will want to set the Spark Catalog configurations as shown"
   ]
  },
  {
   "cell_type": "code",
   "execution_count": 5,
   "id": "incomplete-gallery",
   "metadata": {},
   "outputs": [
    {
     "name": "stderr",
     "output_type": "stream",
     "text": [
      "Setting spark.hadoop.yarn.resourcemanager.principal to pauldefusco\n"
     ]
    }
   ],
   "source": [
    "\"\"\"SimpleApp.py\"\"\"\n",
    "from pyspark.sql import SparkSession\n",
    "from pyspark.sql.functions import *\n",
    "\n",
    "spark = SparkSession.builder\\\n",
    "  .appName(\"1.1 - Ingest\") \\\n",
    "  .config(\"spark.hadoop.fs.s3a.s3guard.ddb.region\", \"us-east-2\")\\\n",
    "  .config(\"spark.yarn.access.hadoopFileSystems\", \"s3a://demo-aws-go02\")\\\n",
    "  .config(\"spark.jars\",\"/home/cdsw/lib/iceberg-spark3-runtime-0.9.1.1.13.317211.0-9.jar\") \\\n",
    "  .config(\"spark.sql.extensions\",\"org.apache.iceberg.spark.extensions.IcebergSparkSessionExtensions\") \\\n",
    "  .config(\"spark.sql.catalog.spark_catalog\",\"org.apache.iceberg.spark.SparkSessionCatalog\") \\\n",
    "  .config(\"spark.sql.catalog.local\",\"org.apache.iceberg.spark.SparkCatalog\") \\\n",
    "  .config(\"spark.sql.catalog.local.type\",\"hadoop\") \\\n",
    "  .config(\"spark.sql.catalog.spark_catalog.type\",\"hive\") \\\n",
    "  .getOrCreate()"
   ]
  },
  {
   "cell_type": "markdown",
   "id": "received-level",
   "metadata": {},
   "source": [
    "### Iceberg comes with catalogs that enable SQL commands to manage tables and load them by name. \n",
    "### Catalogs are configured using properties under spark.sql.catalog.(catalog_name)."
   ]
  },
  {
   "cell_type": "code",
   "execution_count": 7,
   "id": "prompt-universe",
   "metadata": {},
   "outputs": [
    {
     "name": "stdout",
     "output_type": "stream",
     "text": [
      "+-------------+---------+\n",
      "|      catalog|namespace|\n",
      "+-------------+---------+\n",
      "|spark_catalog|   testdb|\n",
      "+-------------+---------+\n",
      "\n"
     ]
    }
   ],
   "source": [
    "  # Using a local Spark Catalog\n",
    "\n",
    "#spark.sql(\"CREATE DATABASE IF NOT EXISTS spark_catalog.newjar\")\n",
    "spark.sql(\"USE spark_catalog.testdb\")\n",
    "spark.sql(\"SHOW CURRENT NAMESPACE\").show()\n",
    "#spark.sql(\"DROP TABLE testtable\")"
   ]
  },
  {
   "cell_type": "markdown",
   "id": "bridal-immune",
   "metadata": {},
   "source": [
    "### You can use simple Spark SQL commands to create Spark tables as you always have. Just make sure to specify the USING iceberg clause."
   ]
  },
  {
   "cell_type": "code",
   "execution_count": 8,
   "id": "extended-stopping",
   "metadata": {},
   "outputs": [
    {
     "data": {
      "text/plain": [
       "DataFrame[]"
      ]
     },
     "execution_count": 8,
     "metadata": {},
     "output_type": "execute_result"
    }
   ],
   "source": [
    "spark.sql(\"CREATE TABLE IF NOT EXISTS newtesttable (id bigint, data string) USING iceberg\")"
   ]
  },
  {
   "cell_type": "markdown",
   "id": "respected-pickup",
   "metadata": {},
   "source": [
    "### To select a specific table snapshot or the snapshot at some time, Iceberg supports two Spark read options:\n",
    "\n",
    "* snapshot-id selects a specific table snapshot\n",
    "* as-of-timestamp selects the current snapshot at a timestamp, in milliseconds"
   ]
  },
  {
   "cell_type": "markdown",
   "id": "applied-definition",
   "metadata": {},
   "source": [
    "#### You can view all snapshots associated with the table"
   ]
  },
  {
   "cell_type": "code",
   "execution_count": 9,
   "id": "17ec587b-605f-4a1c-9d42-292d02ed1b56",
   "metadata": {},
   "outputs": [
    {
     "data": {
      "text/plain": [
       "DataFrame[id: bigint, data: string]"
      ]
     },
     "execution_count": 9,
     "metadata": {},
     "output_type": "execute_result"
    }
   ],
   "source": [
    "spark.sql(\"SELECT * FROM spark_catalog.testdb.newtesttable\")"
   ]
  },
  {
   "cell_type": "code",
   "execution_count": 10,
   "id": "future-dividend",
   "metadata": {},
   "outputs": [],
   "source": [
    "#spark.read.format(\"iceberg\").load(\"spark_catalog.testdb.newtesttable.snapshots\").show(20, False)"
   ]
  },
  {
   "cell_type": "markdown",
   "id": "thousand-place",
   "metadata": {},
   "source": [
    "#### Or a full table version history "
   ]
  },
  {
   "cell_type": "code",
   "execution_count": 11,
   "id": "adequate-mediterranean",
   "metadata": {},
   "outputs": [
    {
     "name": "stdout",
     "output_type": "stream",
     "text": [
      "+---------------+-----------+---------+-------------------+\n",
      "|made_current_at|snapshot_id|parent_id|is_current_ancestor|\n",
      "+---------------+-----------+---------+-------------------+\n",
      "+---------------+-----------+---------+-------------------+\n",
      "\n"
     ]
    }
   ],
   "source": [
    "spark.read.format(\"iceberg\").load(\"spark_catalog.testdb.newtesttable.history\").show(20, False)"
   ]
  },
  {
   "cell_type": "markdown",
   "id": "driven-active",
   "metadata": {},
   "source": [
    "#### To show a table’s data files and each file’s metadata, run:"
   ]
  },
  {
   "cell_type": "code",
   "execution_count": 12,
   "id": "excessive-hawaiian",
   "metadata": {},
   "outputs": [],
   "source": [
    "#spark.read.format(\"iceberg\").load(\"spark_catalog.testdb.newtesttable.files\").show(20, False)"
   ]
  },
  {
   "cell_type": "markdown",
   "id": "missing-brooklyn",
   "metadata": {},
   "source": [
    "### A manifest file is a metadata file that lists a subset of data files that make up a snapshot.\n",
    "\n",
    "### Each data file in a manifest is stored with a partition tuple, column-level stats, and summary information used to prune splits during scan planning."
   ]
  },
  {
   "cell_type": "markdown",
   "id": "moved-participant",
   "metadata": {},
   "source": [
    "#### To show a table’s file manifests and each file’s metadata, run:"
   ]
  },
  {
   "cell_type": "code",
   "execution_count": 13,
   "id": "solid-container",
   "metadata": {},
   "outputs": [],
   "source": [
    "#spark.read.format(\"iceberg\").load(\"spark_catalog.testdb.newtesttable.manifests\").show(20, False)"
   ]
  },
  {
   "cell_type": "markdown",
   "id": "intensive-smith",
   "metadata": {},
   "source": [
    "## Time Travel"
   ]
  },
  {
   "cell_type": "markdown",
   "id": "spare-laser",
   "metadata": {},
   "source": [
    "### Using snapshots as shown above, we can insert some data into the table and roll back to its original state"
   ]
  },
  {
   "cell_type": "code",
   "execution_count": 14,
   "id": "present-venezuela",
   "metadata": {},
   "outputs": [
    {
     "name": "stderr",
     "output_type": "stream",
     "text": [
      "                                                                                \r"
     ]
    },
    {
     "data": {
      "text/plain": [
       "DataFrame[]"
      ]
     },
     "execution_count": 14,
     "metadata": {},
     "output_type": "execute_result"
    }
   ],
   "source": [
    "# Insert using Iceberg format\n",
    "spark.sql(\"INSERT INTO spark_catalog.testdb.newtesttable VALUES (1, 'x'), (2, 'y'), (3, 'z')\")"
   ]
  },
  {
   "cell_type": "code",
   "execution_count": 15,
   "id": "faced-praise",
   "metadata": {},
   "outputs": [
    {
     "name": "stderr",
     "output_type": "stream",
     "text": [
      "[Stage 1:>                                                          (0 + 1) / 1]\r"
     ]
    },
    {
     "name": "stdout",
     "output_type": "stream",
     "text": [
      "+---+----+\n",
      "| id|data|\n",
      "+---+----+\n",
      "|  1|   x|\n",
      "|  2|   y|\n",
      "|  3|   z|\n",
      "+---+----+\n",
      "\n"
     ]
    },
    {
     "name": "stderr",
     "output_type": "stream",
     "text": [
      "                                                                                \r"
     ]
    }
   ],
   "source": [
    "# Query using select\n",
    "spark.sql(\"SELECT * FROM spark_catalog.testdb.newtesttable\").show()"
   ]
  },
  {
   "cell_type": "code",
   "execution_count": 16,
   "id": "useful-belgium",
   "metadata": {},
   "outputs": [
    {
     "name": "stdout",
     "output_type": "stream",
     "text": [
      "+---+----+\n",
      "| id|data|\n",
      "+---+----+\n",
      "|  1|   x|\n",
      "|  2|   y|\n",
      "|  3|   z|\n",
      "+---+----+\n",
      "\n"
     ]
    }
   ],
   "source": [
    "# Query using DF - All Data\n",
    "df = spark.table(\"spark_catalog.testdb.newtesttable\")\n",
    "df.show(100)"
   ]
  },
  {
   "cell_type": "code",
   "execution_count": 17,
   "id": "subtle-samuel",
   "metadata": {},
   "outputs": [
    {
     "name": "stdout",
     "output_type": "stream",
     "text": [
      "timestamp = 1653497360.858986\n"
     ]
    }
   ],
   "source": [
    "from datetime import datetime\n",
    "\n",
    "# current date and time\n",
    "now = datetime.now()\n",
    "\n",
    "timestamp = datetime.timestamp(now)\n",
    "print(\"timestamp =\", timestamp)"
   ]
  },
  {
   "cell_type": "markdown",
   "id": "stupid-commerce",
   "metadata": {},
   "source": [
    "#### Timestamps can be tricky. Please make sure to round your timestamp as shown below."
   ]
  },
  {
   "cell_type": "code",
   "execution_count": 18,
   "id": "expanded-neighbor",
   "metadata": {},
   "outputs": [
    {
     "name": "stderr",
     "output_type": "stream",
     "text": [
      "[Stage 3:>                                                          (0 + 1) / 1]\r"
     ]
    },
    {
     "name": "stdout",
     "output_type": "stream",
     "text": [
      "+---+----+\n",
      "| id|data|\n",
      "+---+----+\n",
      "|  1|   x|\n",
      "|  2|   y|\n",
      "|  3|   z|\n",
      "+---+----+\n",
      "\n"
     ]
    },
    {
     "name": "stderr",
     "output_type": "stream",
     "text": [
      "                                                                                \r"
     ]
    }
   ],
   "source": [
    "# Query using a point in time\n",
    "df = spark.read.option(\"as-of-timestamp\", int(timestamp*1000)).format(\"iceberg\").load(\"spark_catalog.testdb.newtesttable\")\n",
    "df.show(100)"
   ]
  },
  {
   "cell_type": "code",
   "execution_count": 19,
   "id": "parallel-ethnic",
   "metadata": {},
   "outputs": [
    {
     "data": {
      "text/plain": [
       "DataFrame[]"
      ]
     },
     "execution_count": 19,
     "metadata": {},
     "output_type": "execute_result"
    }
   ],
   "source": [
    "# Insert using Iceberg format\n",
    "spark.sql(\"INSERT INTO spark_catalog.testdb.newtesttable VALUES (1, 'd'), (2, 'e'), (3, 'f')\")"
   ]
  },
  {
   "cell_type": "markdown",
   "id": "7c67832e-4a4c-45f3-b49b-b05bdad33996",
   "metadata": {},
   "source": [
    "### Let's insert more data into the table"
   ]
  },
  {
   "cell_type": "code",
   "execution_count": 20,
   "id": "b3293abf-bb3e-46bd-a993-0a0d10642238",
   "metadata": {},
   "outputs": [],
   "source": [
    "# Insert using Iceberg format\n",
    "import string\n",
    "import random\n",
    "\n",
    "for i in range(25):\n",
    "    number = random.randint(0, 10)\n",
    "    letter = random.choice(string.ascii_letters)\n",
    "    spark.sql(\"INSERT INTO spark_catalog.testdb.newtesttable VALUES ({}, '{}')\".format(number, letter))"
   ]
  },
  {
   "cell_type": "markdown",
   "id": "65e10c40-d142-4858-85af-4d61996eb3cf",
   "metadata": {},
   "source": [
    "### Now let's access the data again. Let's access it with the same timestemp as before. Notice we have a smaller number of rows than we just inserted."
   ]
  },
  {
   "cell_type": "code",
   "execution_count": 21,
   "id": "6dd0858e-93cf-4bbc-97d1-1055cb72bb64",
   "metadata": {},
   "outputs": [
    {
     "name": "stdout",
     "output_type": "stream",
     "text": [
      "+---+----+\n",
      "| id|data|\n",
      "+---+----+\n",
      "|  1|   x|\n",
      "|  2|   y|\n",
      "|  3|   z|\n",
      "+---+----+\n",
      "\n"
     ]
    }
   ],
   "source": [
    "# Query using a point in time\n",
    "df = spark.read.option(\"as-of-timestamp\", int(timestamp*1000)).format(\"iceberg\").load(\"spark_catalog.testdb.newtesttable\")\n",
    "df.show(100)"
   ]
  },
  {
   "cell_type": "markdown",
   "id": "a9fbabc8-ef2e-4fdf-84cd-3cbf40b3391c",
   "metadata": {},
   "source": [
    "### Observe that many new Snapshots have been created"
   ]
  },
  {
   "cell_type": "code",
   "execution_count": 22,
   "id": "d35f7a32-7e20-41cd-9793-a963100eeac4",
   "metadata": {},
   "outputs": [
    {
     "name": "stdout",
     "output_type": "stream",
     "text": [
      "+-----------------------+-------------------+-------------------+-------------------+\n",
      "|made_current_at        |snapshot_id        |parent_id          |is_current_ancestor|\n",
      "+-----------------------+-------------------+-------------------+-------------------+\n",
      "|2022-05-25 16:49:18.821|7674920815033026630|null               |true               |\n",
      "|2022-05-25 16:49:29.308|1336987487715714838|7674920815033026630|true               |\n",
      "|2022-05-25 16:49:32.32 |7194407856781086301|1336987487715714838|true               |\n",
      "|2022-05-25 16:49:33.34 |1366768287190112582|7194407856781086301|true               |\n",
      "|2022-05-25 16:49:34.344|7096417147095079776|1366768287190112582|true               |\n",
      "|2022-05-25 16:49:35.354|2022712147794752114|7096417147095079776|true               |\n",
      "|2022-05-25 16:49:36.422|611464847134655691 |2022712147794752114|true               |\n",
      "|2022-05-25 16:49:37.476|6160926064314366538|611464847134655691 |true               |\n",
      "|2022-05-25 16:49:38.489|4554987325204184770|6160926064314366538|true               |\n",
      "|2022-05-25 16:49:39.521|3066063231280870823|4554987325204184770|true               |\n",
      "+-----------------------+-------------------+-------------------+-------------------+\n",
      "only showing top 10 rows\n",
      "\n"
     ]
    }
   ],
   "source": [
    "spark.read.format(\"iceberg\").load(\"spark_catalog.testdb.newtesttable.history\").show(10, False)"
   ]
  },
  {
   "cell_type": "markdown",
   "id": "7e97793e-b86b-4c42-8b85-68397bc44d18",
   "metadata": {},
   "source": [
    "### You can also query the table in its previous state as of a specific partition."
   ]
  },
  {
   "cell_type": "markdown",
   "id": "938fd327-6b8a-4bae-8449-1383daaf1bdc",
   "metadata": {},
   "source": [
    "#### Copy paste a partition_id from above and paste it in the next Spark command"
   ]
  },
  {
   "cell_type": "code",
   "execution_count": 24,
   "id": "4e5621db-65e2-47c4-a3a9-e3422b780c62",
   "metadata": {},
   "outputs": [
    {
     "name": "stdout",
     "output_type": "stream",
     "text": [
      "+---+----+\n",
      "| id|data|\n",
      "+---+----+\n",
      "|  1|   x|\n",
      "|  2|   y|\n",
      "|  3|   z|\n",
      "|  1|   d|\n",
      "|  2|   e|\n",
      "|  3|   f|\n",
      "|  8|   j|\n",
      "|  3|   E|\n",
      "+---+----+\n",
      "\n"
     ]
    }
   ],
   "source": [
    "spark.read\\\n",
    "    .option(\"snapshot-id\", 1366768287190112582)\\\n",
    "    .table(\"spark_catalog.testdb.newtesttable\").show()"
   ]
  },
  {
   "cell_type": "markdown",
   "id": "183d0f6b-59a5-41f2-ba9b-2e1e8aa0d352",
   "metadata": {},
   "source": [
    "### The Iceberg API allows you to create tables from Spark Dataframes, and more"
   ]
  },
  {
   "cell_type": "code",
   "execution_count": 25,
   "id": "0efe36e2-b1cb-47ef-bed4-f902c1e232d2",
   "metadata": {},
   "outputs": [],
   "source": [
    "new_df = spark.sql(\"SELECT * FROM spark_catalog.testdb.newtesttable\").sample(fraction=0.5, seed=3)"
   ]
  },
  {
   "cell_type": "code",
   "execution_count": 26,
   "id": "3fbcfc09-8874-4dfb-87ad-7bc64d6d7471",
   "metadata": {},
   "outputs": [
    {
     "data": {
      "text/plain": [
       "[('id', 'bigint'), ('data', 'string')]"
      ]
     },
     "execution_count": 26,
     "metadata": {},
     "output_type": "execute_result"
    }
   ],
   "source": [
    "new_df.dtypes"
   ]
  },
  {
   "cell_type": "code",
   "execution_count": 27,
   "id": "4a3b301e-dfa7-445e-af5a-0d421ad32a7e",
   "metadata": {},
   "outputs": [
    {
     "name": "stderr",
     "output_type": "stream",
     "text": [
      "[Stage 33:>                                                         (0 + 1) / 1]\r"
     ]
    },
    {
     "name": "stdout",
     "output_type": "stream",
     "text": [
      "+---+----+\n",
      "| id|data|\n",
      "+---+----+\n",
      "|  8|   p|\n",
      "|  5|   v|\n",
      "| 10|   B|\n",
      "|  3|   E|\n",
      "| 10|   p|\n",
      "|  8|   T|\n",
      "|  1|   d|\n",
      "|  2|   e|\n",
      "| 10|   L|\n",
      "|  5|   m|\n",
      "+---+----+\n",
      "only showing top 10 rows\n",
      "\n"
     ]
    },
    {
     "name": "stderr",
     "output_type": "stream",
     "text": [
      "                                                                                \r"
     ]
    }
   ],
   "source": [
    "new_df.show(10)"
   ]
  },
  {
   "cell_type": "markdown",
   "id": "56beefc7-74e6-4225-8f7d-96f8a891490e",
   "metadata": {},
   "source": [
    "#### Creating a new Spark Table with the API and Loading It"
   ]
  },
  {
   "cell_type": "code",
   "execution_count": 28,
   "id": "611cc785-0be4-498d-994b-9aa55a96e0be",
   "metadata": {},
   "outputs": [],
   "source": [
    "#spark.sql(\"DROP TABLE IF EXISTS spark_catalog.testdb.secondtesttable\")"
   ]
  },
  {
   "cell_type": "code",
   "execution_count": 29,
   "id": "64a36034-a441-4f77-946a-ad182c325a18",
   "metadata": {},
   "outputs": [
    {
     "name": "stderr",
     "output_type": "stream",
     "text": [
      "                                                                                \r"
     ]
    }
   ],
   "source": [
    "new_df.writeTo(\"spark_catalog.testdb.secondtesttable\").create()"
   ]
  },
  {
   "cell_type": "code",
   "execution_count": 30,
   "id": "61c443a6-d58c-4392-b5ec-014af794dc44",
   "metadata": {},
   "outputs": [],
   "source": [
    "new_df_nodups = new_df.dropDuplicates([\"id\"])"
   ]
  },
  {
   "cell_type": "code",
   "execution_count": 31,
   "id": "91585a1a-14ab-4ec6-805e-82b4ee5739ef",
   "metadata": {},
   "outputs": [
    {
     "name": "stderr",
     "output_type": "stream",
     "text": [
      "[Stage 35:>                                                         (0 + 1) / 1]\r"
     ]
    },
    {
     "name": "stdout",
     "output_type": "stream",
     "text": [
      "+---+----+\n",
      "| id|data|\n",
      "+---+----+\n",
      "|  1|   d|\n",
      "|  2|   e|\n",
      "|  3|   E|\n",
      "|  5|   v|\n",
      "|  7|   t|\n",
      "|  8|   p|\n",
      "| 10|   B|\n",
      "+---+----+\n",
      "\n"
     ]
    },
    {
     "name": "stderr",
     "output_type": "stream",
     "text": [
      "                                                                                \r"
     ]
    }
   ],
   "source": [
    "new_df_nodups.show()"
   ]
  },
  {
   "cell_type": "markdown",
   "id": "76d0c6f3-e3f9-4b31-84ad-84a79575f48d",
   "metadata": {
    "tags": []
   },
   "source": [
    "#### More ETL SQL Operations"
   ]
  },
  {
   "cell_type": "code",
   "execution_count": 32,
   "id": "a7720ee5-a386-4ffb-ade1-0f30201a0f14",
   "metadata": {},
   "outputs": [
    {
     "name": "stderr",
     "output_type": "stream",
     "text": [
      "                                                                                \r"
     ]
    },
    {
     "data": {
      "text/plain": [
       "DataFrame[]"
      ]
     },
     "execution_count": 32,
     "metadata": {},
     "output_type": "execute_result"
    }
   ],
   "source": [
    "spark.sql(\"INSERT INTO spark_catalog.testdb.secondtesttable SELECT * FROM spark_catalog.testdb.newtesttable\")"
   ]
  },
  {
   "cell_type": "code",
   "execution_count": 33,
   "id": "c56f9268-a32d-40a6-bec8-21b3f2b20539",
   "metadata": {},
   "outputs": [
    {
     "name": "stderr",
     "output_type": "stream",
     "text": [
      "                                                                                \r"
     ]
    },
    {
     "data": {
      "text/plain": [
       "14"
      ]
     },
     "execution_count": 33,
     "metadata": {},
     "output_type": "execute_result"
    }
   ],
   "source": [
    "new_df.count()"
   ]
  },
  {
   "cell_type": "code",
   "execution_count": 34,
   "id": "c7cdc7fb-e201-47d9-843f-b5c84380ed3d",
   "metadata": {},
   "outputs": [],
   "source": [
    "second_df = spark.sql(\"SELECT * FROM spark_catalog.testdb.secondtesttable\") "
   ]
  },
  {
   "cell_type": "code",
   "execution_count": 35,
   "id": "1156d360-7048-4b73-a80f-5b61b2d39818",
   "metadata": {
    "tags": []
   },
   "outputs": [
    {
     "data": {
      "text/plain": [
       "45"
      ]
     },
     "execution_count": 35,
     "metadata": {},
     "output_type": "execute_result"
    }
   ],
   "source": [
    "second_df.count()"
   ]
  },
  {
   "cell_type": "code",
   "execution_count": 36,
   "id": "3076c279-7650-466f-b62b-a4faf1ca7574",
   "metadata": {},
   "outputs": [],
   "source": [
    "second_df=second_df.withColumn(\"id\", second_df.id*3)"
   ]
  },
  {
   "cell_type": "code",
   "execution_count": 37,
   "id": "369fc391-15b9-4ffe-b3e0-67f39ab76c00",
   "metadata": {},
   "outputs": [],
   "source": [
    "sec_df_nodups = second_df.dropDuplicates([\"id\"])"
   ]
  },
  {
   "cell_type": "code",
   "execution_count": 38,
   "id": "2570f7d3-1398-4968-8fcd-3774312772e5",
   "metadata": {},
   "outputs": [
    {
     "name": "stderr",
     "output_type": "stream",
     "text": [
      "                                                                                \r"
     ]
    },
    {
     "name": "stdout",
     "output_type": "stream",
     "text": [
      "+---+----+\n",
      "| id|data|\n",
      "+---+----+\n",
      "|  0|   J|\n",
      "|  6|   e|\n",
      "|  9|   E|\n",
      "| 27|   K|\n",
      "|  3|   d|\n",
      "| 12|   K|\n",
      "| 18|   K|\n",
      "| 21|   t|\n",
      "| 15|   v|\n",
      "| 30|   B|\n",
      "| 24|   p|\n",
      "+---+----+\n",
      "\n"
     ]
    }
   ],
   "source": [
    "sec_df_nodups.show()"
   ]
  },
  {
   "cell_type": "code",
   "execution_count": 40,
   "id": "05593fc2-5552-4d46-b497-8f3961c4ad09",
   "metadata": {},
   "outputs": [],
   "source": [
    "#new_df_nodups.writeTo(\"spark_catalog.testdb.new_df_nodups\").create()"
   ]
  },
  {
   "cell_type": "code",
   "execution_count": 41,
   "id": "dfef8f70-c37e-40ce-8c43-7f567ce5c78b",
   "metadata": {},
   "outputs": [],
   "source": [
    "#sec_df_nodups.writeTo(\"spark_catalog.testdb.sec_df_nodups\").create()"
   ]
  },
  {
   "cell_type": "markdown",
   "id": "0788ca58-c278-47b4-8790-948cd84d487e",
   "metadata": {},
   "source": [
    "#### Update and Merge Into SQL Operations"
   ]
  },
  {
   "cell_type": "code",
   "execution_count": 94,
   "id": "f059996e-c747-45b1-8640-cada970649fb",
   "metadata": {},
   "outputs": [],
   "source": [
    "#spark.sql(\"UPDATE spark_catalog.testdb.new_df_nodups SET data = '?' WHERE id = (SELECT id FROM spark_catalog.testdb.sec_df_nodups)\")"
   ]
  },
  {
   "cell_type": "code",
   "execution_count": null,
   "id": "1ca8e501-c205-4a24-9b96-13ca9b328fdb",
   "metadata": {},
   "outputs": [],
   "source": [
    "#spark.sql(\n",
    "#\"MERGE INTO spark_catalog.testdb.new_df_nodups t USING (SELECT * FROM spark_catalog.testdb.sec_df_nodups) u ON t.id = u.id \\\n",
    "#WHEN MATCHED THEN UPDATE SET t.data = u.data + t.data \\\n",
    "#WHEN NOT MATCHED THEN INSERT *\")"
   ]
  },
  {
   "cell_type": "code",
   "execution_count": null,
   "id": "7865e5f9-0042-4ca6-a12b-15639a72a341",
   "metadata": {},
   "outputs": [],
   "source": [
    "#spark.sql(\"SELECT count(*) FROM spark_catalog.testdb.new_df_nodups\").show() "
   ]
  },
  {
   "cell_type": "code",
   "execution_count": null,
   "id": "9f2cd858-6e1d-4026-8648-9307bfef56c4",
   "metadata": {},
   "outputs": [],
   "source": [
    "#spark.sql(\"SELECT * FROM spark_catalog.testdb.new_df_nodups\").show() "
   ]
  }
 ],
 "metadata": {
  "kernelspec": {
   "display_name": "Python 3 (ipykernel)",
   "language": "python",
   "name": "python3"
  },
  "language_info": {
   "codemirror_mode": {
    "name": "ipython",
    "version": 3
   },
   "file_extension": ".py",
   "mimetype": "text/x-python",
   "name": "python",
   "nbconvert_exporter": "python",
   "pygments_lexer": "ipython3",
   "version": "3.7.13"
  }
 },
 "nbformat": 4,
 "nbformat_minor": 5
}
