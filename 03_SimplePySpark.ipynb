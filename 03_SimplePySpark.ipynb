{
 "cells": [
  {
   "cell_type": "markdown",
   "id": "dominant-capital",
   "metadata": {},
   "source": [
    "## Intro to Spark SQL"
   ]
  },
  {
   "cell_type": "code",
   "execution_count": 1,
   "id": "63c0bb23-2d12-44a1-98aa-d4df4965d00e",
   "metadata": {},
   "outputs": [],
   "source": [
    "#If you are starting from this notebook, please ensure you have uncommented and run:\n",
    "#If you need help running the command, please visit notebook \"1_CML_Session_Basics.ipynb\"\n",
    "#!pip3 install -r requirements.txt"
   ]
  },
  {
   "cell_type": "code",
   "execution_count": 2,
   "id": "dense-iceland",
   "metadata": {},
   "outputs": [],
   "source": [
    "from pyspark.sql import SparkSession\n",
    "from pyspark.sql import functions as F"
   ]
  },
  {
   "cell_type": "code",
   "execution_count": 3,
   "id": "mineral-likelihood",
   "metadata": {},
   "outputs": [],
   "source": [
    "import numpy as np\n",
    "import pandas as pd\n",
    "import os\n",
    "import matplotlib.pyplot as plt\n",
    "import seaborn as sns"
   ]
  },
  {
   "cell_type": "code",
   "execution_count": 4,
   "id": "disturbed-beginning",
   "metadata": {},
   "outputs": [
    {
     "name": "stderr",
     "output_type": "stream",
     "text": [
      "Setting spark.hadoop.yarn.resourcemanager.principal to pauldefusco\n"
     ]
    }
   ],
   "source": [
    "spark = SparkSession\\\n",
    "    .builder\\\n",
    "    .appName(\"IntroToSparkSQL\")\\\n",
    "    .config(\"spark.hadoop.fs.s3a.s3guard.ddb.region\", \"us-west-2\")\\\n",
    "    .config(\"spark.yarn.access.hadoopFileSystems\", os.environ[\"STORAGE\"])\\\n",
    "    .getOrCreate()\n",
    "#.config(\"spark.hadoop.fs.s3a.s3guard.ddb.region\",\"us-east-2\")\\"
   ]
  },
  {
   "cell_type": "code",
   "execution_count": 17,
   "id": "increasing-blackjack",
   "metadata": {},
   "outputs": [],
   "source": [
    "df = spark.read.option(\"inferschema\", True).option(\"header\", True).csv('data/LoanStats_2015_subset_071821.csv')"
   ]
  },
  {
   "cell_type": "code",
   "execution_count": 18,
   "id": "wireless-acrobat",
   "metadata": {},
   "outputs": [
    {
     "name": "stdout",
     "output_type": "stream",
     "text": [
      "Dataframe Shape\n",
      "(18656, 79)\n"
     ]
    }
   ],
   "source": [
    "#Printing number of rows and columns:\n",
    "print('Dataframe Shape')\n",
    "print((df.count(), len(df.columns)))"
   ]
  },
  {
   "cell_type": "code",
   "execution_count": 75,
   "id": "10880ecc-2f98-4afb-bb15-2ecb78ba0866",
   "metadata": {},
   "outputs": [],
   "source": [
    "#df.printSchema()"
   ]
  },
  {
   "cell_type": "markdown",
   "id": "equal-peoples",
   "metadata": {},
   "source": [
    "## KPI Reporting"
   ]
  },
  {
   "cell_type": "code",
   "execution_count": 30,
   "id": "6e6b79a9-45de-4d2c-9baa-6984885bd401",
   "metadata": {},
   "outputs": [],
   "source": [
    "import pyspark.sql.functions as F\n",
    "import seaborn as sns\n",
    "from pyspark.ml.feature import Bucketizer"
   ]
  },
  {
   "cell_type": "markdown",
   "id": "ab02a5ff-5e82-431b-9553-add0317a924d",
   "metadata": {},
   "source": [
    "#### Min and Max Loan Amount "
   ]
  },
  {
   "cell_type": "code",
   "execution_count": 28,
   "id": "d7612618-17d0-4ca4-987f-6471588f8785",
   "metadata": {},
   "outputs": [
    {
     "name": "stdout",
     "output_type": "stream",
     "text": [
      "Minimum Loan Amount\n"
     ]
    },
    {
     "name": "stderr",
     "output_type": "stream",
     "text": [
      "                                                                                \r"
     ]
    },
    {
     "name": "stdout",
     "output_type": "stream",
     "text": [
      "+--------------+\n",
      "|min(loan_amnt)|\n",
      "+--------------+\n",
      "|        1000.0|\n",
      "+--------------+\n",
      "\n",
      "Maximum Loan Amount\n",
      "+--------------+\n",
      "|max(loan_amnt)|\n",
      "+--------------+\n",
      "|       35000.0|\n",
      "+--------------+\n",
      "\n"
     ]
    }
   ],
   "source": [
    "print(\"Minimum Loan Amount\")\n",
    "df.agg(F.min(\"loan_amnt\")).show()\n",
    "\n",
    "print(\"Maximum Loan Amount\")\n",
    "df.agg(F.max(\"loan_amnt\")).show()"
   ]
  },
  {
   "cell_type": "markdown",
   "id": "6526352f-94bd-484b-a1ab-c30e043c5839",
   "metadata": {},
   "source": [
    "#### Create Bins from the Loan Amount Column"
   ]
  },
  {
   "cell_type": "code",
   "execution_count": 42,
   "id": "b8d245df-9c77-4bf3-af86-43eb817cd1dd",
   "metadata": {},
   "outputs": [],
   "source": [
    "df2 = Bucketizer(\n",
    "    splits=[-float('inf'), 10000, 20000, float('inf')],\n",
    "    inputCol='loan_amnt',\n",
    "    outputCol='loan_amnt_bin'\n",
    ").transform(df)"
   ]
  },
  {
   "cell_type": "code",
   "execution_count": 48,
   "id": "b8c8a1fc-d044-402c-87ec-8d6346c8f401",
   "metadata": {},
   "outputs": [
    {
     "data": {
      "text/html": [
       "<div>\n",
       "<style scoped>\n",
       "    .dataframe tbody tr th:only-of-type {\n",
       "        vertical-align: middle;\n",
       "    }\n",
       "\n",
       "    .dataframe tbody tr th {\n",
       "        vertical-align: top;\n",
       "    }\n",
       "\n",
       "    .dataframe thead th {\n",
       "        text-align: right;\n",
       "    }\n",
       "</style>\n",
       "<table border=\"1\" class=\"dataframe\">\n",
       "  <thead>\n",
       "    <tr style=\"text-align: right;\">\n",
       "      <th></th>\n",
       "      <th>loan_amnt_bin</th>\n",
       "    </tr>\n",
       "  </thead>\n",
       "  <tbody>\n",
       "    <tr>\n",
       "      <td>0</td>\n",
       "      <td>1.0</td>\n",
       "    </tr>\n",
       "    <tr>\n",
       "      <td>1</td>\n",
       "      <td>2.0</td>\n",
       "    </tr>\n",
       "    <tr>\n",
       "      <td>2</td>\n",
       "      <td>2.0</td>\n",
       "    </tr>\n",
       "    <tr>\n",
       "      <td>3</td>\n",
       "      <td>2.0</td>\n",
       "    </tr>\n",
       "    <tr>\n",
       "      <td>4</td>\n",
       "      <td>1.0</td>\n",
       "    </tr>\n",
       "    <tr>\n",
       "      <td>...</td>\n",
       "      <td>...</td>\n",
       "    </tr>\n",
       "    <tr>\n",
       "      <td>18651</td>\n",
       "      <td>0.0</td>\n",
       "    </tr>\n",
       "    <tr>\n",
       "      <td>18652</td>\n",
       "      <td>0.0</td>\n",
       "    </tr>\n",
       "    <tr>\n",
       "      <td>18653</td>\n",
       "      <td>1.0</td>\n",
       "    </tr>\n",
       "    <tr>\n",
       "      <td>18654</td>\n",
       "      <td>0.0</td>\n",
       "    </tr>\n",
       "    <tr>\n",
       "      <td>18655</td>\n",
       "      <td>NaN</td>\n",
       "    </tr>\n",
       "  </tbody>\n",
       "</table>\n",
       "<p>18656 rows × 1 columns</p>\n",
       "</div>"
      ],
      "text/plain": [
       "       loan_amnt_bin\n",
       "0                1.0\n",
       "1                2.0\n",
       "2                2.0\n",
       "3                2.0\n",
       "4                1.0\n",
       "...              ...\n",
       "18651            0.0\n",
       "18652            0.0\n",
       "18653            1.0\n",
       "18654            0.0\n",
       "18655            NaN\n",
       "\n",
       "[18656 rows x 1 columns]"
      ]
     },
     "execution_count": 48,
     "metadata": {},
     "output_type": "execute_result"
    }
   ],
   "source": [
    "df2_pandas = df2.select(\"loan_amnt_bin\").toPandas()\n",
    "df2_pandas"
   ]
  },
  {
   "cell_type": "code",
   "execution_count": 59,
   "id": "d967d331-4295-4841-b43e-778925879b22",
   "metadata": {},
   "outputs": [
    {
     "data": {
      "image/png": "[encoded data removed]",
      "text/plain": [
       "<Figure size 432x288 with 1 Axes>"
      ]
     },
     "metadata": {
      "needs_background": "light"
     },
     "output_type": "display_data"
    }
   ],
   "source": [
    "sns.countplot(x=\"loan_amnt_bin\", data=df2_pandas).set(title='Count By Loan Amount Categories')\n",
    "plt.show()"
   ]
  },
  {
   "cell_type": "markdown",
   "id": "7b4d41b0-a0b3-4708-b835-707c62654143",
   "metadata": {},
   "source": [
    "### Rounded Mean Funded Amount By Loan Amount Bins"
   ]
  },
  {
   "cell_type": "code",
   "execution_count": 58,
   "id": "rough-keyboard",
   "metadata": {},
   "outputs": [
    {
     "name": "stdout",
     "output_type": "stream",
     "text": [
      "+-------------+----------------------+\n",
      "|loan_amnt_bin|CEIL(avg(funded_amnt))|\n",
      "+-------------+----------------------+\n",
      "|          0.0|                  5857|\n",
      "|          1.0|                 13752|\n",
      "|          2.0|                 26118|\n",
      "+-------------+----------------------+\n",
      "\n"
     ]
    }
   ],
   "source": [
    "#how many loans defaulted for each month (all data is 2015):\n",
    "df2.groupby('loan_amnt_bin').mean('funded_amnt').na.drop().select(\"loan_amnt_bin\", F.ceil(F.col(\"avg(funded_amnt)\"))).show()"
   ]
  },
  {
   "cell_type": "markdown",
   "id": "breathing-parcel",
   "metadata": {},
   "source": [
    "### Spark SQL"
   ]
  },
  {
   "cell_type": "code",
   "execution_count": 51,
   "id": "surprising-communications",
   "metadata": {},
   "outputs": [
    {
     "name": "stdout",
     "output_type": "stream",
     "text": [
      "+------------------+\n",
      "|      databaseName|\n",
      "+------------------+\n",
      "|        big12stats|\n",
      "|           default|\n",
      "|          finance2|\n",
      "|           flights|\n",
      "|           indexed|\n",
      "|information_schema|\n",
      "|          omop_cdm|\n",
      "|  omop_cdm_parquet|\n",
      "|   prescribing_dev|\n",
      "|     prescribing_o|\n",
      "|     prescribing_p|\n",
      "|   prescribing_p_e|\n",
      "|        retaildemo|\n",
      "|               sys|\n",
      "|              test|\n",
      "|       ukcrime_dev|\n",
      "+------------------+\n",
      "\n"
     ]
    }
   ],
   "source": [
    "spark.sql(\"show databases\").show()"
   ]
  },
  {
   "cell_type": "code",
   "execution_count": 52,
   "id": "competent-myanmar",
   "metadata": {},
   "outputs": [
    {
     "name": "stdout",
     "output_type": "stream",
     "text": [
      "+--------+--------------------+-----------+\n",
      "|database|           tableName|isTemporary|\n",
      "+--------+--------------------+-----------+\n",
      "| default|             concept|      false|\n",
      "| default|     concept_synonym|      false|\n",
      "| default|     device_exposure|      false|\n",
      "| default|       drug_strength|      false|\n",
      "| default|   druide_kafka_demo|      false|\n",
      "| default|flight_not_partit...|      false|\n",
      "| default|  flight_partitioned|      false|\n",
      "| default|      lc_predictions|      false|\n",
      "| default|lc_predictions_la...|      false|\n",
      "| default|            lc_smote|      false|\n",
      "| default|   lc_smote_complete|      false|\n",
      "| default|         lc_smote_k2|      false|\n",
      "| default|         lc_smote_k3|      false|\n",
      "| default|         lc_smote_k4|      false|\n",
      "| default|         lc_smote_k5|      false|\n",
      "| default|            location|      false|\n",
      "| default|            metadata|      false|\n",
      "| default|              myview|      false|\n",
      "| default|             myview2|      false|\n",
      "| default|  observation_period|      false|\n",
      "+--------+--------------------+-----------+\n",
      "only showing top 20 rows\n",
      "\n"
     ]
    }
   ],
   "source": [
    "spark.sql(\"show tables\").show()"
   ]
  },
  {
   "cell_type": "markdown",
   "id": "e0b34297-b042-46bb-984e-dcdf4727b047",
   "metadata": {},
   "source": [
    "#### Saving the Table As Temporary View"
   ]
  },
  {
   "cell_type": "code",
   "execution_count": 74,
   "id": "2fe1e885-bdb6-4173-b290-b17042f74c17",
   "metadata": {},
   "outputs": [],
   "source": [
    "## Registering the dataframe as a temporary table:\n",
    "## Temporary views in Spark SQL are session-scoped and will disappear if the session that creates it terminates. \n",
    "\n",
    "df2.createOrReplaceTempView(\"my_temp_view\")"
   ]
  },
  {
   "cell_type": "markdown",
   "id": "a4edf124-12f0-4968-930f-c3c6d3e1519e",
   "metadata": {},
   "source": [
    "#### Saving the Table Permanently in CDW"
   ]
  },
  {
   "cell_type": "code",
   "execution_count": 71,
   "id": "e49e5525-363f-497e-a440-86ec413aa683",
   "metadata": {},
   "outputs": [
    {
     "name": "stderr",
     "output_type": "stream",
     "text": [
      "Hive Session ID = 613da471-a461-4ffa-9851-73cba1b30a71\n",
      "                                                                                \r"
     ]
    }
   ],
   "source": [
    "## The table will now be a Hive External Table and will show in CDW and Atlas.\n",
    "## Ranger Policies can now be set on the Table\n",
    "\n",
    "df2.select([\"funded_amnt\", \"loan_amnt\", \"installment\", \"tot_cur_bal\"]).write.format('parquet').mode(\"overwrite\").saveAsTable('default.my_hive_table')"
   ]
  },
  {
   "cell_type": "code",
   "execution_count": 76,
   "id": "795ab942-0457-44c0-9077-cc0c3c99e442",
   "metadata": {},
   "outputs": [],
   "source": [
    "spark.stop()"
   ]
  },
  {
   "cell_type": "code",
   "execution_count": null,
   "id": "3ddb9b78-ca1c-48f9-a4ba-b1f6b2bed47b",
   "metadata": {},
   "outputs": [],
   "source": []
  }
 ],
 "metadata": {
  "kernelspec": {
   "display_name": "Python 3 (ipykernel)",
   "language": "python",
   "name": "python3"
  },
  "language_info": {
   "codemirror_mode": {
    "name": "ipython",
    "version": 3
   },
   "file_extension": ".py",
   "mimetype": "text/x-python",
   "name": "python",
   "nbconvert_exporter": "python",
   "pygments_lexer": "ipython3",
   "version": "3.7.13"
  }
 },
 "nbformat": 4,
 "nbformat_minor": 5
}
